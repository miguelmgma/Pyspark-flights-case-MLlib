{
  "cells": [
    {
      "cell_type": "markdown",
      "metadata": {
        "id": "IeCrNWlpdMW0"
      },
      "source": [
        "# Análisis de vuelos"
      ]
    },
    {
      "cell_type": "markdown",
      "metadata": {
        "id": "qgjNt38ZdMW3"
      },
      "source": [
        "## 1. Importamos librerías y se crea el contexto"
      ]
    },
    {
      "cell_type": "code",
      "execution_count": 2,
      "metadata": {
        "id": "34muGnqudMW4"
      },
      "outputs": [],
      "source": [
        "from pyspark.sql import SparkSession\n",
        "from pyspark.sql import functions as F\n",
        "from pyspark.sql.types import IntegerType"
      ]
    },
    {
      "cell_type": "code",
      "execution_count": 3,
      "metadata": {
        "id": "pZw62k_ZdMW6"
      },
      "outputs": [],
      "source": [
        "spark = SparkSession.builder.appName(\"flights\").config(\"inferSchema\", \"true\").getOrCreate()"
      ]
    },
    {
      "cell_type": "markdown",
      "metadata": {
        "id": "5erznX0BdMW7"
      },
      "source": [
        "## 2. Leemos el fichero infiriendo el equema"
      ]
    },
    {
      "cell_type": "code",
      "execution_count": 4,
      "metadata": {
        "colab": {
          "base_uri": "https://localhost:8080/"
        },
        "id": "9JGaWD61dMW7",
        "outputId": "a4ace31a-3d40-41d7-c264-05e9fcf7f796"
      },
      "outputs": [
        {
          "output_type": "execute_result",
          "data": {
            "text/plain": [
              "DataFrame[Year: int, Month: int, DayofMonth: int, DayOfWeek: int, DepTime: string, CRSDepTime: int, ArrTime: string, CRSArrTime: int, UniqueCarrier: string, FlightNum: int, TailNum: string, ActualElapsedTime: string, CRSElapsedTime: int, AirTime: string, ArrDelay: string, DepDelay: string, Origin: string, Dest: string, Distance: int, TaxiIn: string, TaxiOut: string, Cancelled: int, CancellationCode: string, Diverted: int, CarrierDelay: string, WeatherDelay: string, NASDelay: string, SecurityDelay: string, LateAircraftDelay: string]"
            ]
          },
          "metadata": {},
          "execution_count": 4
        }
      ],
      "source": [
        "flightsDF = spark.read \\\n",
        "                 .option(\"inferSchema\", \"true\") \\\n",
        "                 .option(\"header\", \"true\") \\\n",
        "                 .csv(\"/data/flights_jan08.csv\")\n",
        "\n",
        "flightsDF.cache()"
      ]
    },
    {
      "cell_type": "markdown",
      "metadata": {
        "id": "D6t6OFA1dMW8"
      },
      "source": [
        "## 3. Análisis de las columnas\n",
        "### A. Nombres y tipos de datos"
      ]
    },
    {
      "cell_type": "code",
      "execution_count": 5,
      "metadata": {
        "scrolled": false,
        "colab": {
          "base_uri": "https://localhost:8080/"
        },
        "id": "iUPnM8H2dMW8",
        "outputId": "64cc51f0-38fc-48a3-b0bd-347b2d2f441f"
      },
      "outputs": [
        {
          "output_type": "stream",
          "name": "stdout",
          "text": [
            "root\n",
            " |-- Year: integer (nullable = true)\n",
            " |-- Month: integer (nullable = true)\n",
            " |-- DayofMonth: integer (nullable = true)\n",
            " |-- DayOfWeek: integer (nullable = true)\n",
            " |-- DepTime: string (nullable = true)\n",
            " |-- CRSDepTime: integer (nullable = true)\n",
            " |-- ArrTime: string (nullable = true)\n",
            " |-- CRSArrTime: integer (nullable = true)\n",
            " |-- UniqueCarrier: string (nullable = true)\n",
            " |-- FlightNum: integer (nullable = true)\n",
            " |-- TailNum: string (nullable = true)\n",
            " |-- ActualElapsedTime: string (nullable = true)\n",
            " |-- CRSElapsedTime: integer (nullable = true)\n",
            " |-- AirTime: string (nullable = true)\n",
            " |-- ArrDelay: string (nullable = true)\n",
            " |-- DepDelay: string (nullable = true)\n",
            " |-- Origin: string (nullable = true)\n",
            " |-- Dest: string (nullable = true)\n",
            " |-- Distance: integer (nullable = true)\n",
            " |-- TaxiIn: string (nullable = true)\n",
            " |-- TaxiOut: string (nullable = true)\n",
            " |-- Cancelled: integer (nullable = true)\n",
            " |-- CancellationCode: string (nullable = true)\n",
            " |-- Diverted: integer (nullable = true)\n",
            " |-- CarrierDelay: string (nullable = true)\n",
            " |-- WeatherDelay: string (nullable = true)\n",
            " |-- NASDelay: string (nullable = true)\n",
            " |-- SecurityDelay: string (nullable = true)\n",
            " |-- LateAircraftDelay: string (nullable = true)\n",
            "\n",
            "El DataFrame tiene 86357 filas\n"
          ]
        }
      ],
      "source": [
        "flightsDF.printSchema()\n",
        "nfilas = flightsDF.count()\n",
        "print(\"El DataFrame tiene\", nfilas, \"filas\")"
      ]
    },
    {
      "cell_type": "markdown",
      "metadata": {
        "id": "p9Wnmuz2dMW9"
      },
      "source": [
        "### B. Interpretación de las columnas\n",
        "\n",
        "En un vistazo podemos\n",
        "\n",
        "* **Relacionadas con fechas:** *Year*, *Month*, *DayofMonth*, *DayOfWeek*, *DepTime*, *CRSDepTime*, *ArrTime* and *CRSArrTime*\n",
        "* **Relacionadas con el vuelo:** *UniqueCarrier*, *FlightNum*, *TailNum*, *ActualElapsedTime*, *CRSElapsedTime*, *AirTime*, *Origin*, *Dest*, *Distance*, *TaxiIn* and *TaxiOut*\n",
        "* **Relacionadas con problemas del vuelo:** *ArrDelay*, *DepDelay*, *Cancelled*, *CancellationCode*, *Diverted*, *CarrierDelay*, *WeatherDelay*, *NASDelay*, *SecurityDelay* and *LateAircraftDelay*\n",
        "\n",
        "## 4. Exploración de las columnas relacionadas con fechas"
      ]
    },
    {
      "cell_type": "code",
      "execution_count": 6,
      "metadata": {
        "colab": {
          "base_uri": "https://localhost:8080/"
        },
        "id": "6SFgldd6dMW9",
        "outputId": "0f3aa5f9-c2df-440c-a186-f2ba99e41d10"
      },
      "outputs": [
        {
          "output_type": "stream",
          "name": "stdout",
          "text": [
            "Resumen de las columnas Year, Month, DayofMonth and DayOfWeek:\n",
            "+-------+------+-----+------------------+------------------+\n",
            "|summary|  Year|Month|        DayofMonth|         DayOfWeek|\n",
            "+-------+------+-----+------------------+------------------+\n",
            "|  count| 86357|86357|             86357|             86357|\n",
            "|   mean|2008.0|  1.0|15.973968526002524| 3.942378730155054|\n",
            "| stddev|   0.0|  0.0| 7.640382177727954|2.0222466814572404|\n",
            "|    min|  2008|    1|                 3|                 1|\n",
            "|    25%|  2008|    1|                 9|                 2|\n",
            "|    50%|  2008|    1|                16|                 4|\n",
            "|    75%|  2008|    1|                23|                 6|\n",
            "|    max|  2008|    1|                29|                 7|\n",
            "+-------+------+-----+------------------+------------------+\n",
            "\n"
          ]
        },
        {
          "output_type": "execute_result",
          "data": {
            "text/plain": [
              "8"
            ]
          },
          "metadata": {},
          "execution_count": 6
        }
      ],
      "source": [
        "print (\"Resumen de las columnas Year, Month, DayofMonth and DayOfWeek:\")\n",
        "tempDF = flightsDF.select(\"Year\",\"Month\",\"DayofMonth\",\"DayOfWeek\")\n",
        "summaryDF = tempDF.summary()\n",
        "summaryDF.show()\n",
        "summaryDF.count()"
      ]
    },
    {
      "cell_type": "code",
      "execution_count": 18,
      "metadata": {
        "colab": {
          "base_uri": "https://localhost:8080/"
        },
        "id": "qxf8HQ8adMW-",
        "outputId": "1484ce73-6fbe-45dc-b964-be006cd90e18"
      },
      "outputs": [
        {
          "output_type": "stream",
          "name": "stdout",
          "text": [
            "Resumen de las columnas Year, Month, DayofMonth and DayOfWeek:\n",
            "+-------+------+-----+------------------+------------------+\n",
            "|summary|  Year|Month|        DayofMonth|         DayOfWeek|\n",
            "+-------+------+-----+------------------+------------------+\n",
            "|  count| 86357|86357|             86357|             86357|\n",
            "|   mean|2008.0|  1.0|15.973968526002524| 3.942378730155054|\n",
            "| stddev|   0.0|  0.0| 7.640382177727954|2.0222466814572404|\n",
            "|    min|  2008|    1|                 3|                 1|\n",
            "|    25%|  2008|    1|                 9|                 2|\n",
            "|    50%|  2008|    1|                16|                 4|\n",
            "|    75%|  2008|    1|                23|                 6|\n",
            "|    max|  2008|    1|                29|                 7|\n",
            "+-------+------+-----+------------------+------------------+\n",
            "\n",
            "Comprobamos valores nulos en Year, Month, DayofMonth and DayOfWeek:\n",
            "+----+-----+----------+---------+\n",
            "|Year|Month|DayofMonth|DayOfWeek|\n",
            "+----+-----+----------+---------+\n",
            "|   0|    0|         0|        0|\n",
            "+----+-----+----------+---------+\n",
            "\n",
            "Contamos los valores distintos que hay en las columnas Year, Month, DayofMonth and DayOfWeek:\n",
            "+----+-----+----------+---------+\n",
            "|Year|Month|DayofMonth|DayOfWeek|\n",
            "+----+-----+----------+---------+\n",
            "|   1|    1|        27|        7|\n",
            "+----+-----+----------+---------+\n",
            "\n",
            "Ocurrencias más frecuentes y menos frecuentes en DayofMonth y DayOfWeek:\n",
            "+----------+-----+\n",
            "|DayofMonth|Total|\n",
            "+----------+-----+\n",
            "|        12| 2784|\n",
            "|        22| 3430|\n",
            "|        13| 3065|\n",
            "|         6| 3229|\n",
            "|        16| 3428|\n",
            "|         3| 2367|\n",
            "|        20| 3065|\n",
            "|         5| 2809|\n",
            "|        19| 2518|\n",
            "|        15| 3430|\n",
            "|         9| 3436|\n",
            "|        17| 3430|\n",
            "|         4| 3438|\n",
            "|         8| 3436|\n",
            "|        23| 3428|\n",
            "|         7| 3436|\n",
            "|        10| 3437|\n",
            "|        21| 3430|\n",
            "|        11| 3438|\n",
            "|        14| 3430|\n",
            "+----------+-----+\n",
            "only showing top 20 rows\n",
            "\n",
            "+---------+-----+\n",
            "|DayOfWeek|Total|\n",
            "+---------+-----+\n",
            "|        1|13726|\n",
            "|        6|10629|\n",
            "|        3|10292|\n",
            "|        5|13736|\n",
            "|        4|12664|\n",
            "|        7|12424|\n",
            "|        2|12886|\n",
            "+---------+-----+\n",
            "\n"
          ]
        }
      ],
      "source": [
        "print (\"Resumen de las columnas Year, Month, DayofMonth and DayOfWeek:\")\n",
        "tempDF = flightsDF.select(\"Year\",\"Month\",\"DayofMonth\",\"DayOfWeek\")\n",
        "summaryDF = tempDF.summary()\n",
        "summaryDF.show()\n",
        "\n",
        "print(\"Comprobamos valores nulos en Year, Month, DayofMonth and DayOfWeek:\")\n",
        "flightsDF.select([F.count(F.when(F.col(c).isNull(), c)).alias(c) for c in [\"Year\",\"Month\",\"DayofMonth\",\"DayOfWeek\"]]).show()\n",
        "\n",
        "print(\"Contamos los valores distintos que hay en las columnas Year, Month, DayofMonth and DayOfWeek:\")\n",
        "flightsDF.select(\n",
        "    [F.countDistinct(c).alias(c) for c in [\"Year\",\"Month\",\"DayofMonth\",\"DayOfWeek\"]]\n",
        ").show()\n",
        "\n",
        "print (\"Ocurrencias más frecuentes y menos frecuentes en DayofMonth y DayOfWeek:\")\n",
        "dayofMonthOccurrencesDF = flightsDF.groupBy(\"DayofMonth\").agg(F.count(F.lit(1)).alias(\"Total\")).show()\n",
        "dayOfWeekDF = flightsDF.groupBy(\"DayOfWeek\").agg(F.count('*').alias(\"Total\")).show()\n"
      ]
    },
    {
      "cell_type": "code",
      "execution_count": 8,
      "metadata": {
        "colab": {
          "base_uri": "https://localhost:8080/"
        },
        "id": "_kBegvAadMW_",
        "outputId": "a6e989a8-e10e-4fcb-d852-f27a1c03b359"
      },
      "outputs": [
        {
          "output_type": "stream",
          "name": "stdout",
          "text": [
            "Dia del mes más frecuente: 4 (3438 ocurrencias)\n",
            "Dia del mes menos frecuente: 3 (2367 ocurrencias)\n",
            "Dia de la semana más frecuente: 5 (13736 ocurrencias)\n",
            "Dia de la semana menos frecuente: 3 (10292 ocurrencias)\n",
            "Resumen de las columnas DepTime, CRSDepTime, ArrTime and CRSArrTime:\n",
            "+-------+------------------+------------------+------------------+------------------+\n",
            "|summary|           DepTime|        CRSDepTime|           ArrTime|        CRSArrTime|\n",
            "+-------+------------------+------------------+------------------+------------------+\n",
            "|  count|             86357|             86357|             86357|             86357|\n",
            "|   mean|1359.5908617318926|1346.0954525979364|1495.0254847255762| 1503.791122896812|\n",
            "| stddev| 464.4391438174021|452.63563353626046|496.69551687915265|479.62566806413247|\n",
            "|    min|               100|               600|                 1|                 5|\n",
            "|    25%|             946.0|               945|            1115.0|              1120|\n",
            "|    50%|            1346.0|              1335|            1520.0|              1520|\n",
            "|    75%|            1747.0|              1735|            1916.0|              1915|\n",
            "|    max|                NA|              2235|                NA|              2355|\n",
            "+-------+------------------+------------------+------------------+------------------+\n",
            "\n",
            "Comprobamos los nulos en las columnas DepTime, CRSDepTime, ArrTime and CRSArrTime:\n",
            "+-------+----------+-------+----------+\n",
            "|DepTime|CRSDepTime|ArrTime|CRSArrTime|\n",
            "+-------+----------+-------+----------+\n",
            "|      0|         0|      0|         0|\n",
            "+-------+----------+-------+----------+\n",
            "\n",
            "Contamos los valores distintos que hay en las columnas DepTime, CRSDepTime, ArrTime and CRSArrTime:\n",
            "+-------+----------+-------+----------+\n",
            "|DepTime|CRSDepTime|ArrTime|CRSArrTime|\n",
            "+-------+----------+-------+----------+\n",
            "|   1128|       199|   1264|       225|\n",
            "+-------+----------+-------+----------+\n",
            "\n"
          ]
        }
      ],
      "source": [
        "leastFreqDayOfMonth    = dayofMonthOccurrencesDF.orderBy(F.col(\"Total\").asc()).first()\n",
        "mostFreqDayOfMonth     = dayofMonthOccurrencesDF.orderBy(F.col(\"Total\").desc()).first()\n",
        "leastFreqDayOfWeek     = dayOfWeekDF.orderBy(F.col(\"Total\").asc()).first()\n",
        "mostFreqDayOfWeek      = dayOfWeekDF.orderBy(F.col(\"Total\").desc()).first()\n",
        "\n",
        "print(\"Dia del mes más frecuente: {0} ({1} ocurrencias)\".format(mostFreqDayOfMonth[\"DayofMonth\"], mostFreqDayOfMonth[\"Total\"]))\n",
        "print(\"Dia del mes menos frecuente: {0} ({1} ocurrencias)\".format(leastFreqDayOfMonth[\"DayofMonth\"], leastFreqDayOfMonth[\"Total\"]))\n",
        "print(\"Dia de la semana más frecuente: {0} ({1} ocurrencias)\".format(mostFreqDayOfWeek[\"DayOfWeek\"], mostFreqDayOfWeek[\"Total\"]))\n",
        "print(\"Dia de la semana menos frecuente: {0} ({1} ocurrencias)\".format(leastFreqDayOfWeek[\"DayOfWeek\"], leastFreqDayOfWeek[\"Total\"]))\n",
        "\n",
        "print (\"Resumen de las columnas DepTime, CRSDepTime, ArrTime and CRSArrTime:\")\n",
        "flightsDF.select(\"DepTime\",\"CRSDepTime\",\"ArrTime\",\"CRSArrTime\").summary().show()\n",
        "\n",
        "print(\"Comprobamos los nulos en las columnas DepTime, CRSDepTime, ArrTime and CRSArrTime:\")\n",
        "flightsDF.select(\n",
        "    [F.count(F.when(F.col(c).isNull(), c)).alias(c) for c in [\"DepTime\",\"CRSDepTime\",\"ArrTime\",\"CRSArrTime\"]]\n",
        ").show()\n",
        "\n",
        "print(\"Contamos los valores distintos que hay en las columnas DepTime, CRSDepTime, ArrTime and CRSArrTime:\")\n",
        "flightsDF.select(\n",
        "    [F.countDistinct(c).alias(c) for c in [\"DepTime\",\"CRSDepTime\",\"ArrTime\",\"CRSArrTime\"]]\n",
        ").show()"
      ]
    },
    {
      "cell_type": "markdown",
      "metadata": {
        "id": "ghunEQhadMW_"
      },
      "source": [
        "## 5. Respondemos a algunas preguntas de negocio para ver si podemos mejorar el servicio\n",
        "\n",
        "### A. Porcentaje de vuelos retrasados y no cancelados por severidad"
      ]
    },
    {
      "cell_type": "code",
      "execution_count": 9,
      "metadata": {
        "id": "xQZFcXUUdMXA"
      },
      "outputs": [],
      "source": [
        "# Quitamos el string \"NA\", que no es ningún valor especial para Spark, solo un string más\n",
        "delayCategorizationDF = flightsDF.where(F.col(\"ArrDelay\") != \"NA\")"
      ]
    },
    {
      "cell_type": "markdown",
      "metadata": {
        "id": "Q2jdjsJadMXA"
      },
      "source": [
        "Vamos a categorizar el retraso en la llegada como sigue:\n",
        "\n",
        "  \"nodelay\"      - delay=(-infinito,0] mins\n",
        "\n",
        "  \"acceptable\"   - delay=(0,15] mins\n",
        "\n",
        "  \"annoying\"     - delay=(15,30] mins\n",
        "\n",
        "  \"impactul\"     - delay=(30,60] mins\n",
        "  \n",
        "  \"unacceptable\" - delay=(60,+infinito) mins"
      ]
    },
    {
      "cell_type": "code",
      "execution_count": 20,
      "metadata": {
        "scrolled": false,
        "colab": {
          "base_uri": "https://localhost:8080/"
        },
        "id": "YO646wU0dMXA",
        "outputId": "e111d169-83a0-441c-a5cd-9660b7655395"
      },
      "outputs": [
        {
          "output_type": "stream",
          "name": "stdout",
          "text": [
            "+--------------+----------+------------+\n",
            "| DelaySeverity|NumFlights|RoundedRatio|\n",
            "+--------------+----------+------------+\n",
            "|     1.nodelay|     49430|       57.24|\n",
            "|  2.acceptable|     19954|       23.11|\n",
            "|    3.annoying|      7075|        8.19|\n",
            "|   4.impactful|      5202|        6.02|\n",
            "|5.unacceptable|      3645|        4.22|\n",
            "+--------------+----------+------------+\n",
            "\n"
          ]
        }
      ],
      "source": [
        "# 1. Añadimos nuestra categorización\n",
        "totalFlights = flightsDF.count()\n",
        "delayCategorizationDF = flightsDF\\\n",
        "   .where(F.col(\"ArrDelay\")!=\"NA\")\\\n",
        "   .withColumn(\"DelaySeverity\", F.when(F.col(\"ArrDelay\")<=0,\"1.nodelay\")\\\n",
        "                               .when((F.col(\"ArrDelay\")>0) & (F.col(\"ArrDelay\")<=15),\"2.acceptable\")\\\n",
        "                               .when((F.col(\"ArrDelay\")>15) & (F.col(\"ArrDelay\")<=30),\"3.annoying\")\\\n",
        "                               .when((F.col(\"ArrDelay\")>30) & (F.col(\"ArrDelay\")<=60),\"4.impactful\")\\\n",
        "                               .otherwise(\"5.unacceptable\"))\n",
        "\n",
        "delayCategorizationDF.cache() # Esto optimiza la velocidad\n",
        "\n",
        "# 2. Calculamos el porcentaje de vuelos que caen en cada categoría de retraso\n",
        "delayCategorizationDF.where(F.col(\"Cancelled\")==0)\\\n",
        "                     .select(\"DelaySeverity\")\\\n",
        "                     .groupBy(\"DelaySeverity\")\\\n",
        "                     .agg(F.count(\"DelaySeverity\").alias(\"NumFlights\"), \\\n",
        "                          (F.count(\"DelaySeverity\")/totalFlights*100).alias(\"Ratio\"))\\\n",
        "                     .orderBy(\"DelaySeverity\")\\\n",
        "                     .select(\"DelaySeverity\",\"NumFlights\",F.round(\"Ratio\",2).alias(\"RoundedRatio\")).show()"
      ]
    },
    {
      "cell_type": "markdown",
      "metadata": {
        "id": "0iLVjLmPdMXA"
      },
      "source": [
        "### B. Estadísticas sobre el tipo de retraso para los vuelos que han sufrido retraso severo (carrier, weather, NAS, security and lateaircraft)"
      ]
    },
    {
      "cell_type": "markdown",
      "metadata": {
        "id": "lBGXo93EdMXB"
      },
      "source": [
        "Para calcular estadísticas de los vuelos con retraso severo, tenemos que preparar el DataFrame previo (delayCategorizationDF):\n",
        "\n",
        "  1. Quitar vuelos cancelados\n",
        "\n",
        "  2. Quitar vuelos cuyo retraso sea \"no delay\" o \"acceptable\"\n",
        "\n",
        "  3. Convertir columnas numéricas a enteros\n",
        "  \n",
        "     (no hay \"NA\" en el DF resultante severeDelaysDF)"
      ]
    },
    {
      "cell_type": "code",
      "execution_count": 11,
      "metadata": {
        "colab": {
          "base_uri": "https://localhost:8080/"
        },
        "id": "-qHawVoYdMXB",
        "outputId": "04541275-4aa0-4e31-c4b0-ea6ef1af7a74"
      },
      "outputs": [
        {
          "output_type": "stream",
          "name": "stdout",
          "text": [
            "Estadísticas sobre el retraso de los vuelos (en minutos):\n",
            "+--------------+------------------+-----------+------------+------------------+\n",
            "| DelaySeverity|      AverageDelay|LowestDelay|HighestDelay|       StdDevDelay|\n",
            "+--------------+------------------+-----------+------------+------------------+\n",
            "|    3.annoying|21.987561837455832|         16|          30| 4.201271154113909|\n",
            "|   4.impactful| 42.44444444444444|         31|          60| 8.439367702313486|\n",
            "|5.unacceptable| 107.4554183813443|         61|         500|49.663544169822934|\n",
            "+--------------+------------------+-----------+------------+------------------+\n",
            "\n",
            "Estadísticas sobre el retraso debido al avión\n",
            "+--------------+------------------+-----------+------------+------------------+\n",
            "| DelaySeverity|      AverageDelay|LowestDelay|HighestDelay|       StdDevDelay|\n",
            "+--------------+------------------+-----------+------------+------------------+\n",
            "|    3.annoying| 5.352932862190813|          0|          30| 7.442700984333453|\n",
            "|   4.impactful| 9.761245674740485|          0|          60|14.001232312672139|\n",
            "|5.unacceptable|16.968724279835392|          0|         361| 35.93632477987887|\n",
            "+--------------+------------------+-----------+------------+------------------+\n",
            "\n",
            "Estadísticas sobre el retraso debido al tiempo atmosférico\n",
            "+--------------+------------------+-----------+------------+------------------+\n",
            "| DelaySeverity|      AverageDelay|LowestDelay|HighestDelay|       StdDevDelay|\n",
            "+--------------+------------------+-----------+------------+------------------+\n",
            "|    3.annoying|0.2428268551236749|          0|          27|1.9457885865324622|\n",
            "|   4.impactful|0.8194925028835064|          0|          60| 4.944909024109676|\n",
            "|5.unacceptable| 6.699039780521262|          0|         267|26.425094758514973|\n",
            "+--------------+------------------+-----------+------------+------------------+\n",
            "\n"
          ]
        }
      ],
      "source": [
        "severeDelaysDF = \\\n",
        "  delayCategorizationDF.where((F.col(\"Cancelled\")==0))\\\n",
        "                       .where((F.col(\"DelaySeverity\")!=\"1.nodelay\") & (F.col(\"DelaySeverity\")!=\"2.acceptable\"))\\\n",
        "                       .withColumn(\"IntArrDelay\", F.col(\"ArrDelay\").cast(IntegerType()))\\\n",
        "                       .withColumn(\"IntCarrierDelay\", F.col(\"CarrierDelay\").cast(IntegerType()))\\\n",
        "                       .withColumn(\"IntWeatherDelay\", F.col(\"WeatherDelay\").cast(IntegerType()))\\\n",
        "                       .withColumn(\"IntNASDelay\", F.col(\"NASDelay\").cast(IntegerType()))\\\n",
        "                       .withColumn(\"IntSecurityDelay\", F.col(\"SecurityDelay\").cast(IntegerType()))\\\n",
        "                       .withColumn(\"IntLateAircraftDelay\", F.col(\"LateAircraftDelay\").cast(IntegerType()))\\\n",
        "                       .select(\"DelaySeverity\", \"IntArrDelay\",\"IntCarrierDelay\",\"IntWeatherDelay\",\\\n",
        "                               \"IntNASDelay\", \"IntSecurityDelay\", \"IntLateAircraftDelay\")\n",
        "\n",
        "severeDelaysDF.cache() # optimization to make the processing faster\n",
        "\n",
        "print(\"Estadísticas sobre el retraso de los vuelos (en minutos):\")\n",
        "severeDelaysDF.groupBy(\"DelaySeverity\")\\\n",
        "              .agg(F.avg(\"IntArrDelay\").alias(\"AverageDelay\"),\\\n",
        "                   F.min(\"IntArrDelay\").alias(\"LowestDelay\"),\\\n",
        "                   F.max(\"IntArrDelay\").alias(\"HighestDelay\"),\\\n",
        "                   F.stddev(\"IntArrDelay\").alias(\"StdDevDelay\"))\\\n",
        "              .orderBy(\"DelaySeverity\").show()\n",
        "\n",
        "print(\"Estadísticas sobre el retraso debido al avión\")\n",
        "severeDelaysDF.groupBy(\"DelaySeverity\")\\\n",
        "              .agg(F.avg(\"IntCarrierDelay\").alias(\"AverageDelay\"),\\\n",
        "                   F.min(\"IntCarrierDelay\").alias(\"LowestDelay\"),\\\n",
        "                   F.max(\"IntCarrierDelay\").alias(\"HighestDelay\"),\\\n",
        "                   F.stddev(\"IntCarrierDelay\").alias(\"StdDevDelay\"))\\\n",
        "              .orderBy(\"DelaySeverity\").show()\n",
        "\n",
        "print(\"Estadísticas sobre el retraso debido al tiempo atmosférico\")\n",
        "severeDelaysDF.groupBy(\"DelaySeverity\")\\\n",
        "              .agg(F.avg(\"IntWeatherDelay\").alias(\"AverageDelay\"),\\\n",
        "                   F.min(\"IntWeatherDelay\").alias(\"LowestDelay\"),\\\n",
        "                   F.max(\"IntWeatherDelay\").alias(\"HighestDelay\"),\\\n",
        "                   F.stddev(\"IntWeatherDelay\").alias(\"StdDevDelay\"))\\\n",
        "              .orderBy(\"DelaySeverity\").show()"
      ]
    },
    {
      "cell_type": "markdown",
      "metadata": {
        "id": "HXD23hz9dMXB"
      },
      "source": [
        "### C. Top 20 aeropuertos involucrados en retrasos severos"
      ]
    },
    {
      "cell_type": "markdown",
      "metadata": {
        "id": "pXOD5cEbdMXC"
      },
      "source": [
        "Vamos a dar como respuesta:\n",
        "   1. Lista de los 20 aeropuertos de origen con el porcentaje más alto de vuelos con retraso severo (sobre el total de vuelos)\n",
        "   2. Lista de los 20 aeropuertos de origen con el mayor porcentaje de vuelos en cada categoría de retraso (unacceptable,\n",
        "      impactful y annoying)\n",
        "\n",
        "Para ello:\n",
        "   1. Creamos un DataFrame con el número total de vuelos por aeropuerto de origen, que actuarán como denominadores (totalFlightsOriginDF)\n",
        "   2. Creamos otro DataFrame con datos agregados por aeropuerto de origen y severidadpara contar el número de vuelos retrasados por categoría de severidad (severeDelaysOriginDF)\n",
        "   3. Combinamos ambos DataFrames para calcular otro donde dividimos cada conteo entre el total de vuelos que salen de ese aeropuerto"
      ]
    },
    {
      "cell_type": "code",
      "execution_count": 24,
      "metadata": {
        "scrolled": false,
        "colab": {
          "base_uri": "https://localhost:8080/"
        },
        "id": "J_Qx7Ji2dMXC",
        "outputId": "d9d69a59-d137-4baa-bea2-6d5d08b8ff0b"
      },
      "outputs": [
        {
          "output_type": "stream",
          "name": "stdout",
          "text": [
            "Top 20 aeropuertos de origen con el porcentaje más alto de vuelos con retraso severo:\n",
            "+------+--------------+-----------------------+------------+------------------+\n",
            "|Origin| DelaySeverity|NumSevereDelayedFlights|TotalFlights|SevereDelayedRatio|\n",
            "+------+--------------+-----------------------+------------+------------------+\n",
            "|   SFO|5.unacceptable|                    136|         665|             20.45|\n",
            "|   GEG|    3.annoying|                     48|         401|             11.97|\n",
            "|   LAS|    3.annoying|                    673|        6302|             10.68|\n",
            "|   OMA|    3.annoying|                     41|         395|             10.38|\n",
            "|   ONT|    3.annoying|                    146|        1424|             10.25|\n",
            "|   RNO|    3.annoying|                    101|         998|             10.12|\n",
            "|   SLC|    3.annoying|                    123|        1215|             10.12|\n",
            "|   LAX|    3.annoying|                    314|        3121|             10.06|\n",
            "|   SLC|5.unacceptable|                    117|        1215|              9.63|\n",
            "|   MCI|    3.annoying|                    175|        1833|              9.55|\n",
            "|   JAN|    3.annoying|                     22|         232|              9.48|\n",
            "|   OAK|    3.annoying|                    345|        3663|              9.42|\n",
            "|   LAX|   4.impactful|                    293|        3121|              9.39|\n",
            "|   BUR|    3.annoying|                    138|        1491|              9.26|\n",
            "|   MAF|    3.annoying|                     28|         305|              9.18|\n",
            "|   SAN|    3.annoying|                    232|        2547|              9.11|\n",
            "|   SAN|   4.impactful|                    231|        2547|              9.07|\n",
            "|   MDW|    3.annoying|                    532|        5878|              9.05|\n",
            "|   BOI|    3.annoying|                     42|         466|              9.01|\n",
            "|   STL|    3.annoying|                    163|        1814|              8.99|\n",
            "+------+--------------+-----------------------+------------+------------------+\n",
            "\n",
            "Ídem, por categoría de severidad\n",
            "+------+----------+-----------+--------------+\n",
            "|Origin|3.annoying|4.impactful|5.unacceptable|\n",
            "+------+----------+-----------+--------------+\n",
            "|   SFO|      7.22|       7.07|         20.45|\n",
            "|   SLC|     10.12|        8.4|          9.63|\n",
            "|   LAX|     10.06|       9.39|          7.53|\n",
            "|   SAN|      9.11|       9.07|          7.34|\n",
            "|   LAS|     10.68|       8.03|          6.79|\n",
            "|   OAK|      9.42|       7.84|          5.95|\n",
            "|   RNO|     10.12|       7.92|          5.71|\n",
            "|   SJC|      8.53|       7.77|          5.67|\n",
            "|   OMA|     10.38|       5.32|          5.32|\n",
            "|   MDW|      9.05|       7.54|          5.29|\n",
            "|   TUS|      8.02|       7.25|          5.15|\n",
            "|   GEG|     11.97|       5.99|          4.99|\n",
            "|   PDX|      6.55|       6.74|          4.96|\n",
            "|   BOI|      9.01|       6.44|          4.94|\n",
            "|   SMF|      8.96|       7.25|          4.85|\n",
            "|   MHT|      6.78|        5.4|          4.64|\n",
            "|   BUR|      9.26|       7.71|          4.49|\n",
            "|   PHX|      8.88|       6.47|           4.3|\n",
            "|   SEA|      8.06|       5.23|          4.03|\n",
            "|   ONT|     10.25|        7.3|           4.0|\n",
            "+------+----------+-----------+--------------+\n",
            "\n"
          ]
        }
      ],
      "source": [
        "totalFlightsOriginDF = \\\n",
        "   flightsDF.groupBy(\"Origin\")\\\n",
        "            .agg(F.count(\"ArrDelay\").alias(\"TotalFlights\"))\n",
        "\n",
        "severeDelaysOriginDF = \\\n",
        "  delayCategorizationDF.where((F.col(\"Cancelled\")==0))\\\n",
        "                       .where((F.col(\"DelaySeverity\")!=\"1.nodelay\") & (F.col(\"DelaySeverity\")!=\"2.acceptable\"))\\\n",
        "                       .withColumn(\"IntArrDelay\", F.col(\"ArrDelay\").cast(IntegerType()))\\\n",
        "                       .select(\"DelaySeverity\", \"IntArrDelay\",\"Origin\")\\\n",
        "                       .groupBy(\"Origin\", \"DelaySeverity\")\\\n",
        "                       .agg(F.count(\"IntArrDelay\").alias(\"NumSevereDelayedFlights\"))\n",
        "combinedDF = \\\n",
        "  severeDelaysOriginDF\\\n",
        "     .join(totalFlightsOriginDF, \"Origin\")\\\n",
        "     .withColumn(\"SevereDelayedRatio\", F.round(F.col(\"NumSevereDelayedFlights\")/F.col(\"TotalFlights\")*100,2))\\\n",
        "     .orderBy(F.col(\"SevereDelayedRatio\").desc())\n",
        "\n",
        "combinedDF.cache() # Optimización para hacer lo próximo más rápido\n",
        "\n",
        "print(\"Top 20 aeropuertos de origen con el porcentaje más alto de vuelos con retraso severo:\")\n",
        "combinedDF.limit(20).show()\n",
        "\n",
        "print(\"Ídem, por categoría de severidad\")\n",
        "combinedDF\\\n",
        "   .groupBy(\"Origin\")\\\n",
        "   .pivot(\"DelaySeverity\")\\\n",
        "   .agg(F.min(\"SevereDelayedRatio\"))\\\n",
        "   .orderBy(F.col(\"`5.unacceptable`\").desc(), F.col(\"`4.impactful`\").desc(), F.col(\"`3.annoying`\").desc())\\\n",
        "   .limit(20).show()\n",
        "\n"
      ]
    }
  ],
  "metadata": {
    "kernelspec": {
      "display_name": "Python 3",
      "language": "python",
      "name": "python3"
    },
    "language_info": {
      "codemirror_mode": {
        "name": "ipython",
        "version": 3
      },
      "file_extension": ".py",
      "mimetype": "text/x-python",
      "name": "python",
      "nbconvert_exporter": "python",
      "pygments_lexer": "ipython3",
      "version": "3.7.4"
    },
    "colab": {
      "provenance": []
    }
  },
  "nbformat": 4,
  "nbformat_minor": 0
}