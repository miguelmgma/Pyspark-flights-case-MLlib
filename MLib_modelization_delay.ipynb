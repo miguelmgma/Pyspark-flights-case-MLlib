{
  "cells": [
    {
      "cell_type": "markdown",
      "metadata": {
        "id": "zb9tHpGuooop"
      },
      "source": [
        "# ML lib hands-on:\n",
        "\n",
        "RandomForest para predecir la magnitud del retraso"
      ]
    },
    {
      "cell_type": "markdown",
      "metadata": {
        "id": "qeo7JQ7gooor"
      },
      "source": [
        "## Descripción de las variables"
      ]
    },
    {
      "cell_type": "code",
      "execution_count": 2,
      "metadata": {
        "id": "gCMOSd90ooos"
      },
      "outputs": [],
      "source": [
        "from pyspark.sql import SparkSession\n",
        "import pyspark.sql.functions as F\n",
        "from pyspark.sql.types import IntegerType, DoubleType, StringType\n",
        "\n",
        "from pyspark.ml.feature import *\n",
        "from pyspark.ml.classification import RandomForestClassifier\n",
        "from pyspark.ml import Pipeline\n",
        "from pyspark.ml.evaluation import MulticlassClassificationEvaluator\n",
        "from pyspark.ml.tuning import CrossValidator, ParamGridBuilder, TrainValidationSplit"
      ]
    },
    {
      "cell_type": "code",
      "execution_count": 3,
      "metadata": {
        "id": "IybmQUVmooot"
      },
      "outputs": [],
      "source": [
        "# Spark Context\n",
        "spark = SparkSession.builder.appName(\"flights\").config(\"spark.sql.caseSensitive\", \"True\").getOrCreate()"
      ]
    },
    {
      "cell_type": "code",
      "execution_count": 4,
      "metadata": {
        "colab": {
          "base_uri": "https://localhost:8080/"
        },
        "id": "juwJx0Qbooot",
        "outputId": "2a57c189-c078-47a5-e905-bf7710891149"
      },
      "outputs": [
        {
          "output_type": "stream",
          "name": "stdout",
          "text": [
            "root\n",
            " |-- Year: integer (nullable = true)\n",
            " |-- Month: integer (nullable = true)\n",
            " |-- DayofMonth: integer (nullable = true)\n",
            " |-- DayOfWeek: integer (nullable = true)\n",
            " |-- DepTime: string (nullable = true)\n",
            " |-- CRSDepTime: integer (nullable = true)\n",
            " |-- ArrTime: string (nullable = true)\n",
            " |-- CRSArrTime: integer (nullable = true)\n",
            " |-- UniqueCarrier: string (nullable = true)\n",
            " |-- FlightNum: integer (nullable = true)\n",
            " |-- TailNum: string (nullable = true)\n",
            " |-- ActualElapsedTime: string (nullable = true)\n",
            " |-- CRSElapsedTime: integer (nullable = true)\n",
            " |-- AirTime: string (nullable = true)\n",
            " |-- ArrDelay: string (nullable = true)\n",
            " |-- DepDelay: string (nullable = true)\n",
            " |-- Origin: string (nullable = true)\n",
            " |-- Dest: string (nullable = true)\n",
            " |-- Distance: integer (nullable = true)\n",
            " |-- TaxiIn: string (nullable = true)\n",
            " |-- TaxiOut: string (nullable = true)\n",
            " |-- Cancelled: integer (nullable = true)\n",
            " |-- CancellationCode: string (nullable = true)\n",
            " |-- Diverted: integer (nullable = true)\n",
            " |-- CarrierDelay: string (nullable = true)\n",
            " |-- WeatherDelay: string (nullable = true)\n",
            " |-- NASDelay: string (nullable = true)\n",
            " |-- SecurityDelay: string (nullable = true)\n",
            " |-- LateAircraftDelay: string (nullable = true)\n",
            "\n"
          ]
        }
      ],
      "source": [
        "# This does nothing: Spark is lazy so the read operation will be deferred until an action is executed\n",
        "flightsDF = spark.read.option(\"header\", \"true\")\\\n",
        "                      .option(\"inferSchema\", \"true\")\\\n",
        "                      .csv(\"/data/flights_jan08.csv\")\n",
        "\n",
        "flightsDF.printSchema()"
      ]
    },
    {
      "cell_type": "markdown",
      "metadata": {
        "id": "lr_UhGepooou"
      },
      "source": [
        "Planteamiento inicial\n",
        "\n",
        "* StringIndexer para convertir variables tipo String en variables categóricas pero cuyos valores son números reales con la parte decimal a 0, tal como necesitan los algoritmos de Spark.\n",
        "* Bucketizer para discretizar la columna de ArrDelay sin dar nombre a las categorías, solo numeros. Será nuestra variable target.\n",
        "* VectorAssembler para unir las columnas de las features en una sola de tipo vector\n",
        "* RandomForest que es un estimador, como algoritmo de predicción de la severidad\n",
        "* Pipeline, que es un estimador y que incluirá todos los elementos anteriores."
      ]
    },
    {
      "cell_type": "markdown",
      "metadata": {
        "id": "XXkht1WCooou"
      },
      "source": [
        "## Preprocesamiento"
      ]
    },
    {
      "cell_type": "code",
      "execution_count": 5,
      "metadata": {
        "id": "fgdHopeKooou"
      },
      "outputs": [],
      "source": [
        "# Se limpia el DF de NAs y se convierte en el type adecuado\n",
        "\n",
        "cleanFlightsDF = flightsDF.where(\"ArrDelay != 'NA' and DepDelay != 'NA' and DepTime != 'NA' and ArrTime != 'NA'\")\\\n",
        "                          .withColumn(\"ArrDelay\", F.col(\"ArrDelay\").cast(IntegerType()))\\\n",
        "                          .withColumn(\"DepDelay\", F.col(\"DepDelay\").cast(IntegerType()))\\\n",
        "                          .withColumn(\"ArrTime\", F.col(\"ArrTime\").cast(IntegerType()))\\\n",
        "                          .withColumn(\"DepTime\", F.col(\"DepTime\").cast(IntegerType()))\n",
        "\n",
        "# Se definen tres categorías: <15, entre 15 y 60, >60\n",
        "splitsDelays = [-float(\"inf\"), 15, 60, float(\"inf\")]\n",
        "arrDelayBucketizer = Bucketizer(splits=splitsDelays, inputCol=\"ArrDelay\", outputCol=\"ArrDelayBucketed\")\n",
        "\n",
        "# Se definen varias franjas: 00:00 - 06:00, 06:00 - 12:00, 12:00 - 18:00, 18:00 - 22:00, 22:00 - 00:00\n",
        "splitsDepTime = [-1, 600, 1200, 1800, 2200, 2500]\n",
        "depTimeBucketizer = Bucketizer(splits=splitsDepTime, inputCol=\"DepTime\", outputCol=\"DepTimeBucketed\")"
      ]
    },
    {
      "cell_type": "markdown",
      "metadata": {
        "id": "vdXycNwfooov"
      },
      "source": [
        "### Feature Engineering and preparation"
      ]
    },
    {
      "cell_type": "code",
      "execution_count": 6,
      "metadata": {
        "id": "0QIAbgm6ooov"
      },
      "outputs": [],
      "source": [
        "originIndexer = StringIndexer(inputCol = \"Origin\", outputCol=\"OriginIndexed\", handleInvalid=\"skip\")\n",
        "destIndexer = StringIndexer(inputCol = \"Dest\", outputCol=\"DestIndexed\", handleInvalid=\"skip\")\n",
        "dowIndexer = StringIndexer(inputCol = \"DayOfWeek\", outputCol=\"DayOfWeekIndexed\", handleInvalid=\"skip\")\n",
        "\n",
        "vectorAssembler = VectorAssembler(inputCols = [\"DepDelay\", \"DepTimeBucketed\", \"OriginIndexed\", \"DestIndexed\", \"DayOfWeekIndexed\"],\n",
        "                                  outputCol = \"featuresVector\")"
      ]
    },
    {
      "cell_type": "markdown",
      "metadata": {
        "id": "hlFTlmmSooov"
      },
      "source": [
        "### Modelo (Estimador) escogido"
      ]
    },
    {
      "cell_type": "code",
      "execution_count": 7,
      "metadata": {
        "id": "aLQ0sYLWooov"
      },
      "outputs": [],
      "source": [
        "randomForest = RandomForestClassifier(featuresCol = \"featuresVector\", labelCol = \"ArrDelayBucketed\", numTrees = 50, maxBins=100)"
      ]
    },
    {
      "cell_type": "markdown",
      "metadata": {
        "id": "_OYGc0nhooow"
      },
      "source": [
        "### Pipeline creation"
      ]
    },
    {
      "cell_type": "code",
      "execution_count": 8,
      "metadata": {
        "id": "8aWmaYj0ooow"
      },
      "outputs": [],
      "source": [
        "pipeline = Pipeline(stages=[arrDelayBucketizer, depTimeBucketizer, dowIndexer, originIndexer, destIndexer,\n",
        "                            vectorAssembler, randomForest])"
      ]
    },
    {
      "cell_type": "markdown",
      "metadata": {
        "id": "SmEWSrIEooow"
      },
      "source": [
        "### Train-test split"
      ]
    },
    {
      "cell_type": "code",
      "execution_count": 9,
      "metadata": {
        "id": "-dQDNXIIooow"
      },
      "outputs": [],
      "source": [
        "splits = cleanFlightsDF.randomSplit([0.7, 0.3], seed = 123)\n",
        "trainDF = splits[0].cache()\n",
        "testDF = splits[1].cache()"
      ]
    },
    {
      "cell_type": "code",
      "execution_count": 10,
      "metadata": {
        "colab": {
          "base_uri": "https://localhost:8080/"
        },
        "id": "8v4r6r21ooow",
        "outputId": "6db63ec0-a235-4ebb-c5d3-ee3ae355b1a7"
      },
      "outputs": [
        {
          "output_type": "stream",
          "name": "stdout",
          "text": [
            "Hay 37208 ejemplos de entrenamiento\n"
          ]
        }
      ],
      "source": [
        "print(\"Hay {0} ejemplos de entrenamiento\".format(trainDF.count()))"
      ]
    },
    {
      "cell_type": "markdown",
      "metadata": {
        "id": "LCDRTEb9ooox"
      },
      "source": [
        "## Modelización"
      ]
    },
    {
      "cell_type": "code",
      "execution_count": 11,
      "metadata": {
        "id": "8nZawyTBooox"
      },
      "outputs": [],
      "source": [
        "pipelineModel = pipeline.fit(trainDF)\n",
        "predictionsDF = pipelineModel.transform(testDF)"
      ]
    },
    {
      "cell_type": "code",
      "execution_count": 12,
      "metadata": {
        "colab": {
          "base_uri": "https://localhost:8080/"
        },
        "id": "lF2w6K4Eooox",
        "outputId": "04bd7b78-74ac-46ab-a80f-ad4f10996e3a"
      },
      "outputs": [
        {
          "output_type": "stream",
          "name": "stdout",
          "text": [
            "+----+-----+----------+---------+-------+----------+-------+----------+-------------+---------+-------+-----------------+--------------+-------+--------+--------+------+----+--------+------+-------+---------+----------------+--------+------------+------------+--------+-------------+-----------------+----------------+---------------+----------------+-------------+-----------+--------------------+--------------------+--------------------+----------+\n",
            "|Year|Month|DayofMonth|DayOfWeek|DepTime|CRSDepTime|ArrTime|CRSArrTime|UniqueCarrier|FlightNum|TailNum|ActualElapsedTime|CRSElapsedTime|AirTime|ArrDelay|DepDelay|Origin|Dest|Distance|TaxiIn|TaxiOut|Cancelled|CancellationCode|Diverted|CarrierDelay|WeatherDelay|NASDelay|SecurityDelay|LateAircraftDelay|ArrDelayBucketed|DepTimeBucketed|DayOfWeekIndexed|OriginIndexed|DestIndexed|      featuresVector|       rawPrediction|         probability|prediction|\n",
            "+----+-----+----------+---------+-------+----------+-------+----------+-------------+---------+-------+-----------------+--------------+-------+--------+--------+------+----+--------+------+-------+---------+----------------+--------+------------+------------+--------+-------------+-----------------+----------------+---------------+----------------+-------------+-----------+--------------------+--------------------+--------------------+----------+\n",
            "|2008|    1|         3|        4|    600|       600|    711|       715|           WN|     2111| N673AA|               71|            75|     54|      -4|       0|   OAK| LAX|     337|     7|     10|        0|            NULL|       0|          NA|          NA|      NA|           NA|               NA|             0.0|            1.0|             1.0|          4.0|        8.0|[0.0,1.0,4.0,8.0,...|[47.8243476589627...|[0.95648695317925...|       0.0|\n",
            "|2008|    1|         3|        4|    601|       600|    719|       720|           WN|     1940| N358SW|               78|            80|     68|      -1|       1|   PDX| RNO|     444|     3|      7|        0|            NULL|       0|          NA|          NA|      NA|           NA|               NA|             0.0|            1.0|             1.0|         25.0|       27.0|[1.0,1.0,25.0,27....|[48.0475718307244...|[0.96095143661448...|       0.0|\n",
            "|2008|    1|         3|        4|    602|       600|    733|       730|           WN|     3233| N354SW|               91|            90|     76|       3|       2|   LAS| OAK|     407|     4|     11|        0|            NULL|       0|          NA|          NA|      NA|           NA|               NA|             0.0|            1.0|             1.0|          0.0|        4.0|[2.0,1.0,0.0,4.0,...|[47.7057778884736...|[0.95411555776947...|       0.0|\n",
            "|2008|    1|         3|        4|    605|       605|    723|       730|           WN|     3330| N436WN|               78|            85|     61|      -7|       0|   OAK| SNA|     371|     7|     10|        0|            NULL|       0|          NA|          NA|      NA|           NA|               NA|             0.0|            1.0|             1.0|          4.0|       28.0|[0.0,1.0,4.0,28.0...|[47.8574105451690...|[0.95714821090338...|       0.0|\n",
            "|2008|    1|         3|        4|    607|       600|    831|       810|           WN|      922| N388SW|              144|           130|    131|      21|       7|   TPA| BWI|     842|     3|     10|        0|            NULL|       0|           7|           0|      14|            0|                0|             1.0|            1.0|             1.0|         11.0|        3.0|[7.0,1.0,11.0,3.0...|[47.8562368764197...|[0.95712473752839...|       0.0|\n",
            "|2008|    1|         3|        4|    610|       610|    819|       855|           WN|      288| N363SW|              129|           165|    112|     -36|       0|   PHL| MCO|     861|     6|     11|        0|            NULL|       0|          NA|          NA|      NA|           NA|               NA|             0.0|            1.0|             1.0|         17.0|        7.0|[0.0,1.0,17.0,7.0...|[47.9327922086646...|[0.95865584417329...|       0.0|\n",
            "|2008|    1|         3|        4|    611|       610|    853|       900|           WN|      873| N287WN|              102|           110|     87|      -7|       1|   SMF| PHX|     647|     7|      8|        0|            NULL|       0|          NA|          NA|      NA|           NA|               NA|             0.0|            1.0|             1.0|         12.0|        2.0|[1.0,1.0,12.0,2.0...|[47.9573532325516...|[0.95914706465103...|       0.0|\n",
            "|2008|    1|         3|        4|    614|       615|    740|       740|           WN|      297| N743SW|               86|            85|     74|       0|      -1|   SMF| SAN|     480|     3|      9|        0|            NULL|       0|          NA|          NA|      NA|           NA|               NA|             0.0|            1.0|             1.0|         12.0|        9.0|[-1.0,1.0,12.0,9....|[47.8060139480265...|[0.95612027896053...|       0.0|\n",
            "|2008|    1|         3|        4|    614|       615|    900|       910|           WN|     2894| N345SA|              106|           115|     91|     -10|      -1|   OAK| PHX|     646|     4|     11|        0|            NULL|       0|          NA|          NA|      NA|           NA|               NA|             0.0|            1.0|             1.0|          4.0|        2.0|[-1.0,1.0,4.0,2.0...|[47.9756869434879...|[0.95951373886975...|       0.0|\n",
            "|2008|    1|         3|        4|    615|       610|    746|       730|           WN|      276| N472WN|               91|            80|     74|      16|       5|   LAS| SJC|     386|     4|     13|        0|            NULL|       0|           0|           0|      16|            0|                0|             1.0|            1.0|             1.0|          0.0|       13.0|[5.0,1.0,0.0,13.0...|[47.7388407746800...|[0.95477681549359...|       0.0|\n",
            "|2008|    1|         3|        4|    615|       610|   1216|      1215|           WN|      792| N900WN|              241|           245|    219|       1|       5|   OAK| MDW|    1844|     8|     14|        0|            NULL|       0|          NA|          NA|      NA|           NA|               NA|             0.0|            1.0|             1.0|          4.0|        1.0|[5.0,1.0,4.0,1.0,...|[47.9756869434879...|[0.95951373886975...|       0.0|\n",
            "|2008|    1|         3|        4|    615|       615|    724|       735|           WN|      971| N202WN|               69|            80|     60|     -11|       0|   JAN| HOU|     359|     2|      7|        0|            NULL|       0|          NA|          NA|      NA|           NA|               NA|             0.0|            1.0|             1.0|         62.0|        5.0|[0.0,1.0,62.0,5.0...|[47.7057778884736...|[0.95411555776947...|       0.0|\n",
            "|2008|    1|         3|        4|    617|       615|    652|       650|           WN|       11| N689SW|               95|            95|     70|       2|       2|   IND| MCI|     451|     6|     19|        0|            NULL|       0|          NA|          NA|      NA|           NA|               NA|             0.0|            1.0|             1.0|         48.0|       14.0|[2.0,1.0,48.0,14....|[47.8708224800920...|[0.95741644960183...|       0.0|\n",
            "|2008|    1|         3|        4|    617|       615|    743|       735|           WN|      424| N713SW|               86|            80|     59|       8|       2|   MCI| MDW|     405|     6|     21|        0|            NULL|       0|          NA|          NA|      NA|           NA|               NA|             0.0|            1.0|             1.0|         14.0|        1.0|[2.0,1.0,14.0,1.0...|[47.9122609482823...|[0.95824521896564...|       0.0|\n",
            "|2008|    1|         3|        4|    619|       615|    745|       735|           WN|     2548| N335SW|               86|            80|     61|      10|       4|   ONT| SMF|     389|     4|     21|        0|            NULL|       0|          NA|          NA|      NA|           NA|               NA|             0.0|            1.0|             1.0|         19.0|       12.0|[4.0,1.0,19.0,12....|[47.7939845499635...|[0.95587969099927...|       0.0|\n",
            "|2008|    1|         3|        4|    619|       615|    819|       820|           WN|      991| N297WN|              120|           125|    104|      -1|       4|   SEA| OAK|     671|     4|     12|        0|            NULL|       0|          NA|          NA|      NA|           NA|               NA|             0.0|            1.0|             1.0|         24.0|        4.0|[4.0,1.0,24.0,4.0...|[48.0522002345675...|[0.96104400469134...|       0.0|\n",
            "|2008|    1|         3|        4|    621|       615|    948|       945|           WN|      482| N706SW|              147|           150|    128|       3|       6|   MDW| MCO|     989|     8|     11|        0|            NULL|       0|          NA|          NA|      NA|           NA|               NA|             0.0|            1.0|             1.0|          1.0|        7.0|[6.0,1.0,1.0,7.0,...|[47.7910875340674...|[0.95582175068134...|       0.0|\n",
            "|2008|    1|         3|        4|    621|       620|    844|       840|           WN|     3414| N732SW|               83|            80|     59|       4|       1|   MDW| PIT|     402|     7|     17|        0|            NULL|       0|          NA|          NA|      NA|           NA|               NA|             0.0|            1.0|             1.0|          1.0|       38.0|[1.0,1.0,1.0,38.0...|[47.7910875340674...|[0.95582175068134...|       0.0|\n",
            "|2008|    1|         3|        4|    622|       615|    750|       755|           WN|       10| N333SW|              148|           160|    132|      -5|       7|   MCO| HOU|     848|     3|     13|        0|            NULL|       0|          NA|          NA|      NA|           NA|               NA|             0.0|            1.0|             1.0|          7.0|        5.0|[7.0,1.0,7.0,5.0,...|[48.0475718307244...|[0.96095143661448...|       0.0|\n",
            "|2008|    1|         3|        4|    622|       615|    817|       805|           WN|      561| N766SW|              175|           170|    152|      12|       7|   MCO| MDW|     989|     7|     16|        0|            NULL|       0|          NA|          NA|      NA|           NA|               NA|             0.0|            1.0|             1.0|          7.0|        1.0|[7.0,1.0,7.0,1.0,...|[48.0528223427892...|[0.96105644685578...|       0.0|\n",
            "+----+-----+----------+---------+-------+----------+-------+----------+-------------+---------+-------+-----------------+--------------+-------+--------+--------+------+----+--------+------+-------+---------+----------------+--------+------------+------------+--------+-------------+-----------------+----------------+---------------+----------------+-------------+-----------+--------------------+--------------------+--------------------+----------+\n",
            "only showing top 20 rows\n",
            "\n"
          ]
        }
      ],
      "source": [
        "predictionsDF.show()"
      ]
    },
    {
      "cell_type": "markdown",
      "metadata": {
        "id": "KtJBSSi5ooox"
      },
      "source": [
        "### Evaluación del modelo"
      ]
    },
    {
      "cell_type": "markdown",
      "metadata": {
        "id": "70D98JQ8ooox"
      },
      "source": [
        "Se evalúan las predicciones que hemos hecho sobre el DF de test"
      ]
    },
    {
      "cell_type": "code",
      "execution_count": 13,
      "metadata": {
        "colab": {
          "base_uri": "https://localhost:8080/"
        },
        "id": "UBQFpnxuooox",
        "outputId": "e2148742-d811-4a66-8107-ee844583df25"
      },
      "outputs": [
        {
          "output_type": "stream",
          "name": "stdout",
          "text": [
            "Accuracy = 0.926591 \n"
          ]
        }
      ],
      "source": [
        "evaluator = MulticlassClassificationEvaluator(\n",
        "    labelCol=\"ArrDelayBucketed\", predictionCol=\"prediction\", metricName=\"accuracy\")\n",
        "\n",
        "accuracy = evaluator.evaluate(predictionsDF)\n",
        "print(\"Accuracy = %g \" % (accuracy))"
      ]
    },
    {
      "cell_type": "markdown",
      "metadata": {
        "id": "6hVzQoixoooy"
      },
      "source": [
        "### Ajuste de híper-parámetros utilizando Cross Validation sobre el subconjunto de train"
      ]
    },
    {
      "cell_type": "code",
      "execution_count": 14,
      "metadata": {
        "colab": {
          "base_uri": "https://localhost:8080/"
        },
        "id": "K8OwNs7Ioooy",
        "outputId": "7ee73a51-2552-439b-8b1c-9e0d637aa37c"
      },
      "outputs": [
        {
          "output_type": "execute_result",
          "data": {
            "text/plain": [
              "PipelineModel_e23c98914245"
            ]
          },
          "metadata": {},
          "execution_count": 14
        }
      ],
      "source": [
        "paramGrid = ParamGridBuilder() \\\n",
        "    .addGrid(randomForest.numTrees, [50])\\\n",
        "    .build()\n",
        "    # .addGrid(randomForest.maxDepth, [3, 4, 5]) \\\n",
        "    # .build()\n",
        "\n",
        "\n",
        "crossval = CrossValidator(estimator=pipeline,\n",
        "                          estimatorParamMaps=paramGrid,\n",
        "                          evaluator=evaluator,\n",
        "                          numFolds=3)\n",
        "\n",
        "cvModel = crossval.fit(trainDF)\n",
        "cvModel.bestModel"
      ]
    },
    {
      "cell_type": "code",
      "execution_count": 15,
      "metadata": {
        "colab": {
          "base_uri": "https://localhost:8080/"
        },
        "id": "yg5KPfJ_oooy",
        "outputId": "e4b032cf-6bdd-49db-8621-0bff0a6f8256"
      },
      "outputs": [
        {
          "output_type": "execute_result",
          "data": {
            "text/plain": [
              "{Param(parent='CrossValidatorModel_7acb0afe5fe8', name='seed', doc='random seed.'): -2814150791527038033,\n",
              " Param(parent='CrossValidatorModel_7acb0afe5fe8', name='numFolds', doc='number of folds for cross validation'): 3,\n",
              " Param(parent='CrossValidatorModel_7acb0afe5fe8', name='foldCol', doc=\"Param for the column name of user specified fold number. Once this is specified, :py:class:`CrossValidator` won't do random k-fold split. Note that this column should be integer type with range [0, numFolds) and Spark will throw exception on out-of-range fold numbers.\"): '',\n",
              " Param(parent='CrossValidatorModel_7acb0afe5fe8', name='estimator', doc='estimator to be cross-validated'): Pipeline_93f9fa8699a9,\n",
              " Param(parent='CrossValidatorModel_7acb0afe5fe8', name='estimatorParamMaps', doc='estimator param maps'): [{Param(parent='RandomForestClassifier_29866d1ae2a5', name='numTrees', doc='Number of trees to train (>= 1).'): 50}],\n",
              " Param(parent='CrossValidatorModel_7acb0afe5fe8', name='evaluator', doc='evaluator used to select hyper-parameters that maximize the validator metric'): MulticlassClassificationEvaluator_690f0ae579cd}"
            ]
          },
          "metadata": {},
          "execution_count": 15
        }
      ],
      "source": [
        "cvModel.extractParamMap()"
      ]
    },
    {
      "cell_type": "code",
      "execution_count": 16,
      "metadata": {
        "colab": {
          "base_uri": "https://localhost:8080/"
        },
        "id": "FPZvU5snoooy",
        "outputId": "88543ca1-68ca-44a7-8118-5100b258134c"
      },
      "outputs": [
        {
          "output_type": "execute_result",
          "data": {
            "text/plain": [
              "[{Param(parent='RandomForestClassifier_29866d1ae2a5', name='numTrees', doc='Number of trees to train (>= 1).'): 50}]"
            ]
          },
          "metadata": {},
          "execution_count": 16
        }
      ],
      "source": [
        "cvModel.getEstimatorParamMaps()"
      ]
    },
    {
      "cell_type": "code",
      "execution_count": 17,
      "metadata": {
        "colab": {
          "base_uri": "https://localhost:8080/"
        },
        "id": "8LQwVStToooy",
        "outputId": "fd9f0318-8e91-480e-e04d-98f39a0d03d5"
      },
      "outputs": [
        {
          "output_type": "stream",
          "name": "stdout",
          "text": [
            "Número óptimo de árboles: 50\n",
            "Max depth óptimo: 5\n"
          ]
        }
      ],
      "source": [
        "rf = cvModel.bestModel.stages[6]\n",
        "print(\"Número óptimo de árboles: {0}\".format(rf.getNumTrees))\n",
        "print(\"Max depth óptimo: {0}\".format(rf.getOrDefault('maxDepth')))"
      ]
    }
  ],
  "metadata": {
    "kernelspec": {
      "display_name": "Python 3",
      "language": "python",
      "name": "python3"
    },
    "language_info": {
      "codemirror_mode": {
        "name": "ipython",
        "version": 3
      },
      "file_extension": ".py",
      "mimetype": "text/x-python",
      "name": "python",
      "nbconvert_exporter": "python",
      "pygments_lexer": "ipython3",
      "version": "3.9.18"
    },
    "colab": {
      "provenance": []
    }
  },
  "nbformat": 4,
  "nbformat_minor": 0
}