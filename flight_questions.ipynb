{
  "cells": [
    {
      "cell_type": "markdown",
      "metadata": {
        "id": "2SEKKoopm_o1"
      },
      "source": [
        "# Operaciones avanzadas con DataFrames"
      ]
    },
    {
      "cell_type": "markdown",
      "metadata": {
        "id": "9Omk_dc0m_o4"
      },
      "source": [
        "## Descripción de las variables"
      ]
    },
    {
      "cell_type": "code",
      "execution_count": 2,
      "metadata": {
        "id": "DmrnpfE5m_o5"
      },
      "outputs": [],
      "source": [
        "from pyspark.sql import SparkSession\n",
        "import pyspark.sql.functions as F\n",
        "from pyspark.sql.types import IntegerType, DoubleType, StringType\n"
      ]
    },
    {
      "cell_type": "code",
      "execution_count": 3,
      "metadata": {
        "id": "V5FxZHzzm_o7"
      },
      "outputs": [],
      "source": [
        "# Spark Context\n",
        "spark = SparkSession.builder.appName(\"flights\").config(\"spark.sql.caseSensitive\", \"True\").getOrCreate()"
      ]
    },
    {
      "cell_type": "code",
      "execution_count": 4,
      "metadata": {
        "id": "Xo9IyRZLm_o9"
      },
      "outputs": [],
      "source": [
        "# Leemos los datos y quitamos filas con NA y convertimos a numéricas las columnas inferidas incorrectamente\n",
        "flightsDF = spark.read\\\n",
        "                 .option(\"header\", \"true\")\\\n",
        "                 .option(\"inferSchema\", \"true\")\\\n",
        "                 .csv(\"/data/flights_jan08.csv\")\n",
        "\n",
        "# Convertimos a enteros y re-categorizamos ArrDelay en una nueva columna ArrDelayCat\n",
        "# None (< 15 min), Slight(entre 15 y 60 min), Huge (> 60 min)\n",
        "\n",
        "cleanFlightsDF = flightsDF.where(\"ArrDelay != 'NA' and DepDelay != 'NA'\")\\\n",
        "                          .withColumn(\"ArrDelay\", F.col(\"ArrDelay\").cast(IntegerType()))\\\n",
        "                          .withColumn(\"DepDelay\", F.col(\"DepDelay\").cast(IntegerType()))\\\n",
        "                          .withColumn(\"ArrDelayCat\", F.when(F.col(\"ArrDelay\") < 15, \"None\")\\\n",
        "                                                      .when((F.col(\"ArrDelay\") >= 15) & (F.col(\"ArrDelay\") < 60), \"Slight\")\\\n",
        "                                                      .otherwise(\"Huge\"))\\\n",
        "                           .cache()"
      ]
    },
    {
      "cell_type": "markdown",
      "metadata": {
        "id": "4ZKQcp02m_o-"
      },
      "source": [
        "## Primeras conclusiones"
      ]
    },
    {
      "cell_type": "markdown",
      "metadata": {
        "id": "dOG9gOAWm_o-"
      },
      "source": [
        "ESCENARIO:\n",
        "\n",
        "Imaginemos que somos los dueños de una web de viajes que rastrea internet en busca de vuelos en agencias y otras páginas, los compara y recomienda el más adecuado para el aeropuerto. Junto con esta recomendación, querríamos dar también información sobre vuelos fiables y no fiables en lo que respecta a la puntualidad. Esto depende de muchos factores, como el origen y destino, duración del vuelo, hora del día, etc."
      ]
    },
    {
      "cell_type": "markdown",
      "metadata": {
        "id": "oV3Z3aScm_o-"
      },
      "source": [
        "### Agrupación y agregaciones"
      ]
    },
    {
      "cell_type": "markdown",
      "metadata": {
        "id": "FCIzZblnm_o_"
      },
      "source": [
        "<div class=\"alert alert-block alert-success\">\n",
        "<p><b>PREGUNTA</b>: ¿Cuáles son los vuelos (origen, destino) con mayor retraso medio? ¿Cuántos vuelos existen entre cada par de aeropuertos?</p>\n"
      ]
    },
    {
      "cell_type": "code",
      "execution_count": 5,
      "metadata": {
        "colab": {
          "base_uri": "https://localhost:8080/"
        },
        "id": "5VFn38y6m_o_",
        "outputId": "5473f499-0274-4747-dce8-e8bfdf26b1a9"
      },
      "outputs": [
        {
          "output_type": "stream",
          "name": "stdout",
          "text": [
            "+------+----+------------------+-------+\n",
            "|Origin|Dest|          avgDelay|cuantos|\n",
            "+------+----+------------------+-------+\n",
            "|   ONT| SAN|             257.0|      2|\n",
            "|   ABQ| IAH|             149.0|      2|\n",
            "|   CLE| SDF|              98.0|      1|\n",
            "|   LCH| IAH|              60.0|      1|\n",
            "|   TUL| EWR|              57.0|      1|\n",
            "|   SYR| CLE|              46.0|      1|\n",
            "|   ORD| EWR|              46.0|      1|\n",
            "|   MDW| SFO|38.895348837209305|     87|\n",
            "|   LAS| SFO| 38.85128205128205|    199|\n",
            "|   IAH| SLC|              36.0|      1|\n",
            "|   LAX| SFO| 35.08040201005025|    229|\n",
            "|   SFO| LAS|  32.9639175257732|    199|\n",
            "|   EWR| RDU|              31.5|      2|\n",
            "|   MCI| IAH|              31.0|      3|\n",
            "|   IAH| SAV|              31.0|      1|\n",
            "|   LAS| BDL|29.310344827586206|     29|\n",
            "|   SAN| SFO|29.275229357798164|    228|\n",
            "|   SFO| SAN| 28.80275229357798|    228|\n",
            "|   SFO| MDW|28.229885057471265|     87|\n",
            "|   GEG| LGB|              28.0|      1|\n",
            "+------+----+------------------+-------+\n",
            "only showing top 20 rows\n",
            "\n"
          ]
        }
      ],
      "source": [
        "retrasoMedioDF = flightsDF.groupBy(\"Origin\", \"Dest\").agg(F.mean(F.col(\"ArrDelay\")).alias(\"avgDelay\"),\n",
        "                                                       F.count(\"*\").alias(\"cuantos\"))\\\n",
        "                                                       .sort(F.col(\"avgDelay\").desc())\n",
        "retrasoMedioDF.show()"
      ]
    },
    {
      "cell_type": "markdown",
      "metadata": {
        "id": "2exfm1rQm_pA"
      },
      "source": [
        "<div class=\"alert alert-block alert-success\">\n",
        "<p><b>PREGUNTA</b>: ¿Es el avión un medio de transporte fiable? Mostrar el número de vuelos en cada categoría de retraso.</p>\n",
        "En lugar de llamar agg(F.count(\"*\")), podemos llamar a la transformación count() sobre el resultado de groupBy(), y creará\n",
        "automáticamente una columna llamada \"count\" con los conteos para cada grupo.\n",
        "<p> Ahora agrupar también por cada aeropuerto de origen, y mostrando una columna distinta por cada tipo de retraso, con el recuento.</p>"
      ]
    },
    {
      "cell_type": "code",
      "execution_count": 6,
      "metadata": {
        "colab": {
          "base_uri": "https://localhost:8080/"
        },
        "id": "JxyZ56x3m_pA",
        "outputId": "62286f53-9d8a-475e-afe9-2c8a21ec5e53"
      },
      "outputs": [
        {
          "output_type": "stream",
          "name": "stdout",
          "text": [
            "+-----------+-----+\n",
            "|ArrDelayCat|count|\n",
            "+-----------+-----+\n",
            "|     Slight|14879|\n",
            "|       None|79069|\n",
            "|       Huge| 4750|\n",
            "+-----------+-----+\n",
            "\n"
          ]
        }
      ],
      "source": [
        "cleanFlightsDF.groupBy(\"ArrDelayCat\").count().show()"
      ]
    },
    {
      "cell_type": "code",
      "execution_count": 7,
      "metadata": {
        "colab": {
          "base_uri": "https://localhost:8080/"
        },
        "id": "_MBRqF4mm_pB",
        "outputId": "0a3ca238-fb1c-4d3d-a6cb-4568a4889b1e"
      },
      "outputs": [
        {
          "output_type": "stream",
          "name": "stdout",
          "text": [
            "+------+----+-----------+-----+\n",
            "|Origin|Dest|ArrDelayCat|count|\n",
            "+------+----+-----------+-----+\n",
            "|   LAS| GEG|       None|   39|\n",
            "|   OAK| BUR|       Huge|   26|\n",
            "|   BOI| LAS|       None|   44|\n",
            "|   BWI| SDF|       None|  109|\n",
            "|   CMH| MDW|     Slight|   23|\n",
            "|   DEN| TPA|       Huge|    2|\n",
            "|   BNA| DEN|       Huge|    2|\n",
            "|   TPA| IND|     Slight|    4|\n",
            "|   RNO| MDW|     Slight|    2|\n",
            "|   MDW| STL|       Huge|   15|\n",
            "|   MHT| MCO|       None|  127|\n",
            "|   PHX| OKC|       None|   67|\n",
            "|   RDU| BWI|     Slight|   17|\n",
            "|   SEA| BOI|       None|   62|\n",
            "|   SJC| SAN|       Huge|   15|\n",
            "|   SMF| PDX|     Slight|   40|\n",
            "|   BHM| MCO|       None|   76|\n",
            "|   BNA| PHL|       None|   60|\n",
            "|   BUF| MCO|       None|   68|\n",
            "|   CMH| PHL|       None|   67|\n",
            "+------+----+-----------+-----+\n",
            "only showing top 20 rows\n",
            "\n"
          ]
        }
      ],
      "source": [
        "cleanFlightsDF.groupBy(\"Origin\", \"Dest\", \"ArrDelayCat\").count().show()"
      ]
    },
    {
      "cell_type": "code",
      "execution_count": 8,
      "metadata": {
        "colab": {
          "base_uri": "https://localhost:8080/"
        },
        "id": "gpXCjD7-m_pB",
        "outputId": "80f4c17a-e03d-4696-b0d6-a5073d1a39e4"
      },
      "outputs": [
        {
          "output_type": "stream",
          "name": "stdout",
          "text": [
            "+------+----+----+----+------+\n",
            "|Origin|Dest|Huge|None|Slight|\n",
            "+------+----+----+----+------+\n",
            "|   SMF| BUR|  12| 218|    55|\n",
            "|   PHL| MCO|   2| 169|    17|\n",
            "|   SNA| PHX|   7| 190|    24|\n",
            "|   LAS| LIT|NULL|  29|  NULL|\n",
            "|   MCI| IAH|   1|   1|     1|\n",
            "|   BFL| SAN|   3|  23|     4|\n",
            "|   AUS| ELP|   2|  98|     8|\n",
            "|   SJC| ONT|   9| 193|    36|\n",
            "|   PVD| LAS|NULL|  28|     1|\n",
            "|   BWI| MDW|  10| 187|    18|\n",
            "|   HOU| PHL|   2|  38|    11|\n",
            "|   PVD| TPA|   2|  79|     5|\n",
            "|   MCO| PVD|   2| 158|    14|\n",
            "|   FLL| PVD|NULL|  23|     5|\n",
            "|   IND| TPA|NULL|  28|     1|\n",
            "|   SMF| PHX|   5| 156|    26|\n",
            "|   BUF| BWI|   6| 150|    21|\n",
            "|   PHX| TUL|   6|  65|     9|\n",
            "|   SEA| RNO|   1|  51|     5|\n",
            "|   BNA| SAN|   2|  44|    10|\n",
            "+------+----+----+----+------+\n",
            "only showing top 20 rows\n",
            "\n"
          ]
        }
      ],
      "source": [
        "cleanFlightsDF.groupBy(\"Origin\", \"Dest\").pivot(\"ArrDelayCat\").count().show()"
      ]
    },
    {
      "cell_type": "code",
      "execution_count": 9,
      "metadata": {
        "colab": {
          "base_uri": "https://localhost:8080/"
        },
        "id": "KRzCDgXDm_pB",
        "outputId": "8902ed23-6045-4b0d-e156-ed3f25e5e386"
      },
      "outputs": [
        {
          "output_type": "stream",
          "name": "stdout",
          "text": [
            "+------+----+-----------+------------+-----------+------------+-------------+--------------+\n",
            "|Origin|Dest|Huge_conteo|Huge_avgDist|None_conteo|None_avgDist|Slight_conteo|Slight_avgDist|\n",
            "+------+----+-----------+------------+-----------+------------+-------------+--------------+\n",
            "|   SMF| BUR|         12|       358.0|        218|       358.0|           55|         358.0|\n",
            "|   PHL| MCO|          2|       861.0|        169|       861.0|           17|         861.0|\n",
            "|   SNA| PHX|          7|       338.0|        190|       338.0|           24|         338.0|\n",
            "|   LAS| LIT|       NULL|        NULL|         29|      1295.0|         NULL|          NULL|\n",
            "|   MCI| IAH|          1|       643.0|          1|       643.0|            1|         643.0|\n",
            "|   BFL| SAN|          3|       215.0|         23|       215.0|            4|         215.0|\n",
            "|   AUS| ELP|          2|       528.0|         98|       528.0|            8|         528.0|\n",
            "|   SJC| ONT|          9|       333.0|        193|       333.0|           36|         333.0|\n",
            "|   PVD| LAS|       NULL|        NULL|         28|      2363.0|            1|        2363.0|\n",
            "|   BWI| MDW|         10|       611.0|        187|       611.0|           18|         611.0|\n",
            "|   HOU| PHL|          2|      1335.0|         38|      1335.0|           11|        1335.0|\n",
            "|   PVD| TPA|          2|      1137.0|         79|      1137.0|            5|        1137.0|\n",
            "|   MCO| PVD|          2|      1073.0|        158|      1073.0|           14|        1073.0|\n",
            "|   FLL| PVD|       NULL|        NULL|         23|      1188.0|            5|        1188.0|\n",
            "|   IND| TPA|       NULL|        NULL|         28|       838.0|            1|         838.0|\n",
            "|   SMF| PHX|          5|       647.0|        156|       647.0|           26|         647.0|\n",
            "|   BUF| BWI|          6|       281.0|        150|       281.0|           21|         281.0|\n",
            "|   PHX| TUL|          6|       935.0|         65|       935.0|            9|         935.0|\n",
            "|   SEA| RNO|          1|       564.0|         51|       564.0|            5|         564.0|\n",
            "|   BNA| SAN|          2|      1751.0|         44|      1751.0|           10|        1751.0|\n",
            "+------+----+-----------+------------+-----------+------------+-------------+--------------+\n",
            "only showing top 20 rows\n",
            "\n"
          ]
        }
      ],
      "source": [
        "cleanFlightsDF.groupBy(\"Origin\", \"Dest\").pivot(\"ArrDelayCat\").agg(\n",
        "    F.count(\"*\").alias(\"conteo\"),\n",
        "    F.mean(\"Distance\").alias(\"avgDist\")\n",
        ").show()"
      ]
    },
    {
      "cell_type": "markdown",
      "metadata": {
        "id": "euPN7WrCm_pC"
      },
      "source": [
        "<div class=\"alert alert-block alert-success\">\n",
        "<p><b>PREGUNTA</b>: ¿Hay relación entre el día de la semana y el retraso a la salida o a la llegada?</p>\n",
        "    <p> Ahora haz lo mismo para cada día pero solo con el retraso a la llegada, desagregado por cada aeropuerto de salida, utilizando la función pivot(). </p>\n",
        "</div>"
      ]
    },
    {
      "cell_type": "code",
      "execution_count": 10,
      "metadata": {
        "colab": {
          "base_uri": "https://localhost:8080/"
        },
        "id": "3VHVgKfmm_pC",
        "outputId": "2e79d3c9-b99a-4ab5-9951-ceb8f1239a7e"
      },
      "outputs": [
        {
          "output_type": "stream",
          "name": "stdout",
          "text": [
            "+---------+------------------+-------------------+\n",
            "|DayOfWeek|     avg(DepDelay)|      avg(ArrDelay)|\n",
            "+---------+------------------+-------------------+\n",
            "|        7|17.091833613702402|  12.19062547790182|\n",
            "|        4|16.447597472278527| 13.387921783712889|\n",
            "|        5|12.010452961672474| 7.6849477351916375|\n",
            "|        1| 9.130252979301693|  4.568959509373475|\n",
            "|        6|7.9830827067669174|  2.069280343716434|\n",
            "|        2| 5.136341648814871|0.44647916522700576|\n",
            "|        3|3.6755377826806397| -1.646511307225593|\n",
            "+---------+------------------+-------------------+\n",
            "\n"
          ]
        }
      ],
      "source": [
        "avgDelaysDF = cleanFlightsDF.groupBy(\"DayOfWeek\").agg(F.mean(\"DepDelay\"), F.mean(\"ArrDelay\"))\\\n",
        "                            .orderBy(F.col(\"avg(DepDelay)\").desc())\n",
        "avgDelaysDF.show()"
      ]
    },
    {
      "cell_type": "markdown",
      "metadata": {
        "id": "02DgDiy5m_pC"
      },
      "source": [
        "Como esta variable tiene 7 valores distintos, se crearán 7 columnas nuevas. De esta manera, visualizaremos toda la información de cada combinación (Origen, Dest) condensada en una fila con 7 columnas con los 7 retrasos promedio correspondientes a ese (Origen, Dest) en cada día de la semana."
      ]
    },
    {
      "cell_type": "code",
      "execution_count": 11,
      "metadata": {
        "colab": {
          "base_uri": "https://localhost:8080/"
        },
        "id": "R3tszystm_pC",
        "outputId": "a57350a2-0b1e-4a7e-fc28-c5b858371486"
      },
      "outputs": [
        {
          "output_type": "stream",
          "name": "stdout",
          "text": [
            "+------+----+-----+------+------+------+------+------+------+\n",
            "|Origin|Dest|    1|     2|     3|     4|     5|     6|     7|\n",
            "+------+----+-----+------+------+------+------+------+------+\n",
            "|   ABQ| AMA| 7.25| -6.25|  -3.5|  29.0| 32.75| 14.75|  7.75|\n",
            "|   ABQ| AUS|  7.5| -13.5| -10.5| -5.63| -5.63|-11.25|  5.25|\n",
            "|   ABQ| BWI|-15.5|-15.75|-16.75|-13.33|-19.25|-15.25|-15.75|\n",
            "|   ABQ| DAL| 6.14| -1.78| -0.39| -2.46|  5.31|  -0.9|  7.61|\n",
            "|   ABQ| DEN|-7.25| -3.45|  -6.0| -7.25|  -1.0|  2.08|-10.42|\n",
            "|   ABQ| ELP|  5.5|  2.08| -1.33| 11.75| -1.33| 13.17| 10.63|\n",
            "|   ABQ| HOU|19.08| -1.92| -2.08|  8.92| -6.42|  14.5| -4.33|\n",
            "|   ABQ| IAH| NULL|  NULL|  NULL| 278.0|  20.0|  NULL|  NULL|\n",
            "|   ABQ| LAS| 5.29|  5.61|   1.5|   2.0|  8.46| 10.33| 35.61|\n",
            "|   ABQ| LAX|-0.31|  0.44| -0.13|  9.19| 18.19|   9.0| 13.69|\n",
            "|   ABQ| LBB| 2.75| 12.75|  -4.0|   3.0|  8.75|  1.75| 16.75|\n",
            "|   ABQ| MAF| 14.5| -2.25|  -0.5|   7.0|  6.25|  18.5|  60.5|\n",
            "|   ABQ| MCI|-4.75| -8.63|-11.88|  -9.0| 13.63|  1.33| 21.63|\n",
            "|   ABQ| MCO| 6.38|-11.38| -8.63| -8.88|  -2.0| -8.25|  5.29|\n",
            "|   ABQ| MDW|-3.88| -3.63|-16.38| 15.25|-11.38|-10.75| -13.5|\n",
            "|   ABQ| OAK| -1.0|  1.82|  1.58| 16.82|  4.17|  13.3| 12.88|\n",
            "|   ABQ| OKC| -7.5|  -1.6|  -1.8|  22.4|  -1.0| 40.25|  1.75|\n",
            "|   ABQ| ONT|46.38| -10.9| -13.1|  19.2| -11.5|  4.75|  -3.5|\n",
            "|   ABQ| PDX| 8.25|  -1.5|  -2.0| 33.75|  -6.5|   9.5| 20.75|\n",
            "|   ABQ| PHX| 6.37| -0.09| -0.86| 20.95|  7.52|  0.41|  15.1|\n",
            "+------+----+-----+------+------+------+------+------+------+\n",
            "only showing top 20 rows\n",
            "\n"
          ]
        }
      ],
      "source": [
        "byOriginDestWithPivot = cleanFlightsDF.groupBy(\"Origin\", \"Dest\")\\\n",
        "                                 .pivot(\"DayOfWeek\")\\\n",
        "                                 .agg(F.round(F.mean(\"ArrDelay\"), 2))\\\n",
        "                                 .orderBy(\"Origin\", \"Dest\")\n",
        "\n",
        "byOriginDestWithPivot.show()"
      ]
    },
    {
      "cell_type": "markdown",
      "metadata": {
        "id": "XBmSya8Im_pD"
      },
      "source": [
        "### Join operations"
      ]
    },
    {
      "cell_type": "markdown",
      "metadata": {
        "id": "E8OcSSeYm_pD"
      },
      "source": [
        "It would be nice to have the average delay of a route appended next to each flight, so that we can see which flights had a delay that was above or below the average delay of that route."
      ]
    },
    {
      "cell_type": "markdown",
      "metadata": {
        "id": "nSXWyzGKm_pD"
      },
      "source": [
        "<div class=\"alert alert-block alert-success\">\n",
        "    <b> PREGUNTA </b>:\n",
        "Usa el averageDelayOriginDestDF creado anteriormente, elimina la columna de conteo y luego únerlo con cleanFlightsDF, utilizando Origin y Dest como columnas de enlace.\n",
        "\n",
        "Finalmente, selecciona solo las columnas Origin, Dest, DayOfWeek, ArrDelay y avgDelay del resultado.\n",
        "</div>"
      ]
    },
    {
      "cell_type": "code",
      "execution_count": 12,
      "metadata": {
        "colab": {
          "base_uri": "https://localhost:8080/"
        },
        "id": "Tlc2Dyenm_pD",
        "outputId": "6a9b2b41-fe22-4dc3-9b4c-bd6ae1b3c60e"
      },
      "outputs": [
        {
          "output_type": "stream",
          "name": "stdout",
          "text": [
            "+------+----+--------+-------------------+\n",
            "|Origin|Dest|ArrDelay|           avgDelay|\n",
            "+------+----+--------+-------------------+\n",
            "|   IAD| TPA|     -14|-10.310344827586206|\n",
            "|   IAD| TPA|       2|-10.310344827586206|\n",
            "|   IND| BWI|      14|0.49382716049382713|\n",
            "|   IND| BWI|      -6|0.49382716049382713|\n",
            "|   IND| BWI|      34|0.49382716049382713|\n",
            "|   IND| JAX|      11|  7.862068965517241|\n",
            "|   IND| LAS|      57|-2.2413793103448274|\n",
            "|   IND| LAS|     -18|-2.2413793103448274|\n",
            "|   IND| MCI|       2| 3.1296296296296298|\n",
            "|   IND| MCI|     -16| 3.1296296296296298|\n",
            "|   IND| MCO|       1|-0.5172413793103449|\n",
            "|   IND| MCO|      80|-0.5172413793103449|\n",
            "|   IND| MDW|       1| 11.514018691588785|\n",
            "|   IND| MDW|      10| 11.514018691588785|\n",
            "|   IND| MDW|      -4| 11.514018691588785|\n",
            "|   IND| MDW|      11| 11.514018691588785|\n",
            "|   IND| PHX|      15| -4.103448275862069|\n",
            "|   IND| PHX|     -15| -4.103448275862069|\n",
            "|   IND| TPA|      16| -9.172413793103448|\n",
            "|   ISP| BWI|      37|  1.764102564102564|\n",
            "+------+----+--------+-------------------+\n",
            "only showing top 20 rows\n",
            "\n"
          ]
        }
      ],
      "source": [
        "flightsWithAverage = cleanFlightsDF.join(retrasoMedioDF, on = [\"Origin\", \"Dest\"])\n",
        "flightsWithAverage.select(\"Origin\", \"Dest\", \"ArrDelay\", \"avgDelay\").show()"
      ]
    },
    {
      "cell_type": "code",
      "execution_count": 13,
      "metadata": {
        "colab": {
          "base_uri": "https://localhost:8080/"
        },
        "id": "1wEULN90m_pD",
        "outputId": "3fef869d-38ad-49db-af15-529c213839d3"
      },
      "outputs": [
        {
          "output_type": "stream",
          "name": "stdout",
          "text": [
            "+------+----+--------+-------------------+------------+\n",
            "|Origin|Dest|ArrDelay|           avgDelay|belowAverage|\n",
            "+------+----+--------+-------------------+------------+\n",
            "|   IAD| TPA|     -14|-10.310344827586206|        true|\n",
            "|   IAD| TPA|       2|-10.310344827586206|       false|\n",
            "|   IND| BWI|      14|0.49382716049382713|       false|\n",
            "|   IND| BWI|      -6|0.49382716049382713|        true|\n",
            "|   IND| BWI|      34|0.49382716049382713|       false|\n",
            "|   IND| JAX|      11|  7.862068965517241|       false|\n",
            "|   IND| LAS|      57|-2.2413793103448274|       false|\n",
            "|   IND| LAS|     -18|-2.2413793103448274|        true|\n",
            "|   IND| MCI|       2| 3.1296296296296298|        true|\n",
            "|   IND| MCI|     -16| 3.1296296296296298|        true|\n",
            "|   IND| MCO|       1|-0.5172413793103449|       false|\n",
            "|   IND| MCO|      80|-0.5172413793103449|       false|\n",
            "|   IND| MDW|       1| 11.514018691588785|        true|\n",
            "|   IND| MDW|      10| 11.514018691588785|        true|\n",
            "|   IND| MDW|      -4| 11.514018691588785|        true|\n",
            "|   IND| MDW|      11| 11.514018691588785|        true|\n",
            "|   IND| PHX|      15| -4.103448275862069|       false|\n",
            "|   IND| PHX|     -15| -4.103448275862069|        true|\n",
            "|   IND| TPA|      16| -9.172413793103448|       false|\n",
            "|   ISP| BWI|      37|  1.764102564102564|       false|\n",
            "+------+----+--------+-------------------+------------+\n",
            "only showing top 20 rows\n",
            "\n"
          ]
        }
      ],
      "source": [
        "flightsComparedWithAverage = flightsWithAverage.withColumn(\"belowAverage\", F.col(\"ArrDelay\") < F.col(\"avgDelay\"))\n",
        "\n",
        "flightsComparedWithAverage.select(\"Origin\", \"Dest\", \"ArrDelay\", \"avgDelay\", \"belowAverage\").show()"
      ]
    },
    {
      "cell_type": "markdown",
      "metadata": {
        "id": "pUWBQOhGm_pD"
      },
      "source": [
        "<div class=\"alert alert-block alert-success\">\n",
        "<b> PREGUNTA </b>: Vamos a construir otro DF con información sobre los aeropuertos (en una situación real, tendríamos otra tabla en la base de datos como la tabla de la entidad Aeropuerto).\n",
        "\n",
        "</div>"
      ]
    },
    {
      "cell_type": "code",
      "execution_count": 14,
      "metadata": {
        "id": "WbdAKFQtm_pE"
      },
      "outputs": [],
      "source": [
        "airportsDF = spark.createDataFrame([\n",
        "    (\"JFK\", \"John F. Kennedy International Airport\", 1948),\n",
        "    (\"LIT\", \"Little Rock National Airport\", 1931),\n",
        "    (\"SEA\", \"Seattle-Tacoma International Airport\", 1949),\n",
        "], [\"IATA\", \"FullName\", \"Year\"])"
      ]
    },
    {
      "cell_type": "code",
      "execution_count": 17,
      "metadata": {
        "colab": {
          "base_uri": "https://localhost:8080/"
        },
        "id": "ADdf6eMbm_pE",
        "outputId": "e9ddd33e-c5ee-43af-b7be-3965739fb514"
      },
      "outputs": [
        {
          "output_type": "stream",
          "name": "stdout",
          "text": [
            "+--------------------+------+----+--------+\n",
            "|            FullName|Origin|Dest|ArrDelay|\n",
            "+--------------------+------+----+--------+\n",
            "|Little Rock Natio...|   LIT| STL|      40|\n",
            "|Little Rock Natio...|   LIT| STL|      -3|\n",
            "|Little Rock Natio...|   LIT| PHX|     -12|\n",
            "|Little Rock Natio...|   LIT| MDW|     -18|\n",
            "|Little Rock Natio...|   LIT| LAS|      21|\n",
            "|Little Rock Natio...|   LIT| HOU|      50|\n",
            "|Little Rock Natio...|   LIT| DAL|      53|\n",
            "|Little Rock Natio...|   LIT| DAL|       2|\n",
            "|Little Rock Natio...|   LIT| DAL|      -1|\n",
            "|Little Rock Natio...|   LIT| DAL|       4|\n",
            "|Little Rock Natio...|   LIT| DAL|     113|\n",
            "|Little Rock Natio...|   LIT| DAL|      85|\n",
            "|Little Rock Natio...|   LIT| DAL|       0|\n",
            "|Little Rock Natio...|   LIT| BWI|     115|\n",
            "|Little Rock Natio...|   LIT| STL|      -2|\n",
            "|Little Rock Natio...|   LIT| STL|      -9|\n",
            "|Little Rock Natio...|   LIT| PHX|       3|\n",
            "|Little Rock Natio...|   LIT| MDW|     -16|\n",
            "|Little Rock Natio...|   LIT| LAS|      -7|\n",
            "|Little Rock Natio...|   LIT| HOU|      -2|\n",
            "+--------------------+------+----+--------+\n",
            "only showing top 20 rows\n",
            "\n"
          ]
        }
      ],
      "source": [
        "joinedFlightsDF = cleanFlightsDF.join(airportsDF, cleanFlightsDF.Origin == airportsDF.IATA, \"inner\").select('FullName','Origin','Dest','ArrDelay')\n",
        "\n",
        "joinedFlightsDF.show()"
      ]
    },
    {
      "cell_type": "markdown",
      "metadata": {
        "id": "mVS6ZYhAm_pE"
      },
      "source": [
        "## User-defined functions (UDFs)"
      ]
    },
    {
      "cell_type": "markdown",
      "metadata": {
        "id": "--drFzT2m_pE"
      },
      "source": [
        "Vamos a construir un UDF para convertir millas a kilómetros. Esto podría hacerse fácilmente multiplicando directamente la columna de millas por 1.6 (y sería mucho más eficiente), ya que Spark permite el producto entre una columna y un número. En todos los casos en los que Spark proporciona funciones integradas para realizar una tarea (como esta), debes usar esas funciones y no una UDF.\n",
        "\n",
        "Las UDF deben emplearse solo cuando no hay otra opción.\n",
        "La razón es que las funciones integradas de Spark están optimizadas y Catalyst, el optimizador automático de código integrado en Spark, puede optimizarlo aún más. Sin embargo, las UDF son una caja negra para Catalyst y su contenido no se optimizará, y por lo tanto, generalmente son mucho más lentas."
      ]
    },
    {
      "cell_type": "code",
      "execution_count": null,
      "metadata": {
        "id": "vzfJdN32m_pE"
      },
      "outputs": [],
      "source": [
        "def milesToKm(miles):\n",
        "    return miles*1.6"
      ]
    },
    {
      "cell_type": "code",
      "execution_count": null,
      "metadata": {
        "id": "uHCLBv2km_pE",
        "outputId": "91a7867d-9cac-47a4-dde5-3f26255a5f96"
      },
      "outputs": [
        {
          "name": "stdout",
          "output_type": "stream",
          "text": [
            "8.0\n",
            "+------+----+--------+------------------+\n",
            "|Origin|Dest|Distance|            DistKM|\n",
            "+------+----+--------+------------------+\n",
            "|   LAS| ALB|    2237|3579.2000000000003|\n",
            "|   LIT| LAS|    1295|            2072.0|\n",
            "|   PHX| PHL|    2075|            3320.0|\n",
            "|   HOU| SAT|     192|307.20000000000005|\n",
            "|   TUS| OMA|    1046|1673.6000000000001|\n",
            "+------+----+--------+------------------+\n",
            "only showing top 5 rows\n",
            "\n"
          ]
        }
      ],
      "source": [
        "udfMilesToKm = F.udf(milesToKm, DoubleType())\n",
        "\n",
        "# Con esto, Spark será capaz de llamar a nuestra función milesToKm sobre cada uno de los valores de una columna numérica.\n",
        "# Spark enviará el código de nuestra función a los executors a través de la red, y cada executor la ejecutará sobre las\n",
        "# particiones (una por una) que estén en ese executor\n",
        "\n",
        "flightsWithKm = cleanFlightsDF.withColumn(\"DistKm\", udfMilesToKm(F.col(\"Distance\")))\n",
        "\n",
        "flightsWithKm.select(\"Origin\", \"Dest\", \"Distance\", \"DistKM\")\\\n",
        "             .distinct()\\\n",
        "             .show(5)"
      ]
    },
    {
      "cell_type": "markdown",
      "metadata": {
        "id": "vDPObj7Km_pE"
      },
      "source": [
        "### UDF que convierta DayOfWeek en una cadena."
      ]
    },
    {
      "cell_type": "code",
      "execution_count": null,
      "metadata": {
        "id": "c5Pcm5YCm_pF"
      },
      "outputs": [],
      "source": [
        "def dayOfWeekToString(dayInteger):\n",
        "\n",
        "    daysOfWeek = [\"\", \"Monday\", \"Tuesday\", \"Wednesday\", \"Thursday\", \"Friday\", \"Saturday\", \"Sunday\"]\n",
        "\n",
        "    return daysOfWeek[dayInteger]"
      ]
    },
    {
      "cell_type": "code",
      "execution_count": null,
      "metadata": {
        "id": "IG3gcpcmm_pF",
        "outputId": "346abd1e-d1e1-4901-81fc-ed920730f37a"
      },
      "outputs": [
        {
          "name": "stdout",
          "output_type": "stream",
          "text": [
            "+------+----+---------+---------------+\n",
            "|Origin|Dest|DayOfWeek|DayOfWeekString|\n",
            "+------+----+---------+---------------+\n",
            "|   MCI| MDW|        4|       Thursday|\n",
            "|   OAK| PDX|        4|       Thursday|\n",
            "|   LAS| PDX|        5|         Friday|\n",
            "|   OAK| SLC|        5|         Friday|\n",
            "|   ORF| LAS|        5|         Friday|\n",
            "|   PHX| OAK|        5|         Friday|\n",
            "|   SLC| PDX|        5|         Friday|\n",
            "|   BDL| MDW|        6|       Saturday|\n",
            "|   DAL| HOU|        6|       Saturday|\n",
            "|   SJC| LAS|        6|       Saturday|\n",
            "|   SLC| BWI|        6|       Saturday|\n",
            "|   STL| SDF|        6|       Saturday|\n",
            "|   BDL| MCO|        7|         Sunday|\n",
            "|   BUR| OAK|        7|         Sunday|\n",
            "|   HOU| LAX|        7|         Sunday|\n",
            "|   IAD| MDW|        7|         Sunday|\n",
            "|   MCI| PHX|        7|         Sunday|\n",
            "|   DAL| STL|        1|         Monday|\n",
            "|   OMA| STL|        1|         Monday|\n",
            "|   PHX| ONT|        1|         Monday|\n",
            "+------+----+---------+---------------+\n",
            "only showing top 20 rows\n",
            "\n"
          ]
        }
      ],
      "source": [
        "dayOfWeekStringUDF = F.udf(dayOfWeekToString, StringType())\n",
        "\n",
        "flightsWithDayOfWeekStr = cleanFlightsDF.withColumn(\"DayOfWeekString\", dayOfWeekStringUDF(F.col(\"DayOfWeek\")))\n",
        "\n",
        "flightsWithDayOfWeekStr.select(\"Origin\", \"Dest\", \"DayOfWeek\", \"DayOfWeekString\")\\\n",
        "                       .distinct()\\\n",
        "                       .show()"
      ]
    }
  ],
  "metadata": {
    "kernelspec": {
      "display_name": "Python 3",
      "language": "python",
      "name": "python3"
    },
    "language_info": {
      "codemirror_mode": {
        "name": "ipython",
        "version": 3
      },
      "file_extension": ".py",
      "mimetype": "text/x-python",
      "name": "python",
      "nbconvert_exporter": "python",
      "pygments_lexer": "ipython3",
      "version": "3.10.11"
    },
    "colab": {
      "provenance": []
    }
  },
  "nbformat": 4,
  "nbformat_minor": 0
}